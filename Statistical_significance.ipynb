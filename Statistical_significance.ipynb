{
  "nbformat": 4,
  "nbformat_minor": 0,
  "metadata": {
    "colab": {
      "provenance": [],
      "authorship_tag": "ABX9TyNhPYCI+tX0FzsOlQb+amIF",
      "include_colab_link": true
    },
    "kernelspec": {
      "name": "python3",
      "display_name": "Python 3"
    },
    "language_info": {
      "name": "python"
    }
  },
  "cells": [
    {
      "cell_type": "markdown",
      "metadata": {
        "id": "view-in-github",
        "colab_type": "text"
      },
      "source": [
        "<a href=\"https://colab.research.google.com/github/bhenderson11/Recruitment-Bias-in-Machine-Learning-Algorithms-/blob/main/Statistical_significance.ipynb\" target=\"_parent\"><img src=\"https://colab.research.google.com/assets/colab-badge.svg\" alt=\"Open In Colab\"/></a>"
      ]
    },
    {
      "cell_type": "code",
      "source": [
        "pip install tabulate\n"
      ],
      "metadata": {
        "colab": {
          "base_uri": "https://localhost:8080/"
        },
        "id": "4OeWEqnUBgu3",
        "outputId": "2b709b96-8804-4452-937b-7a54d7ad58dd"
      },
      "execution_count": 2,
      "outputs": [
        {
          "output_type": "stream",
          "name": "stdout",
          "text": [
            "Requirement already satisfied: tabulate in /usr/local/lib/python3.10/dist-packages (0.9.0)\n"
          ]
        }
      ]
    },
    {
      "cell_type": "code",
      "source": [
        "import pandas as pd\n",
        "from tabulate import tabulate\n",
        "\n",
        "data = {\n",
        "    \"Model\": [\"Random Forest Regressor\", \"Gradient Boosting Regressor\", \"Post Processed Model \"],\n",
        "    \"False Positive Rate\": [0.172833, 0.144725, 0.204949],\n",
        "    \"False Negative Rate\": [0.213577, 0.089073, 0.126214]\n",
        "}\n",
        "\n",
        "\n",
        "df = pd.DataFrame(data)\n",
        "\n",
        "print(tabulate(df, headers='keys', tablefmt='pretty'))\n"
      ],
      "metadata": {
        "colab": {
          "base_uri": "https://localhost:8080/"
        },
        "id": "VXvYhGTBBO1d",
        "outputId": "c4fbb457-9182-4ad6-bd0e-6e415a6bdd6f"
      },
      "execution_count": 16,
      "outputs": [
        {
          "output_type": "stream",
          "name": "stdout",
          "text": [
            "+---+-----------------------------+---------------------+---------------------+\n",
            "|   |            Model            | False Positive Rate | False Negative Rate |\n",
            "+---+-----------------------------+---------------------+---------------------+\n",
            "| 0 |   Random Forest Regressor   |      0.172833       |      0.213577       |\n",
            "| 1 | Gradient Boosting Regressor |      0.144725       |      0.089073       |\n",
            "| 2 |    Post Processed Model     |      0.204949       |      0.126214       |\n",
            "+---+-----------------------------+---------------------+---------------------+\n"
          ]
        }
      ]
    },
    {
      "cell_type": "code",
      "source": [
        "\n",
        "\n",
        "\n",
        "diff_rf = [0.172833, 0.213577]\n",
        "diff_gb = [0.144725, 0.089073]\n",
        "diff_ppm = [0.20494, 0.126215]\n",
        "\n",
        "w_stat, p_value = wilcoxon(diff_rf, diff_gb)\n",
        "\n",
        "print(f\"Wilcoxon Signed-Rank Test statistic: {w_stat}\")\n",
        "print(f\"P-value: {p_value}\")\n",
        "\n",
        "\n"
      ],
      "metadata": {
        "colab": {
          "base_uri": "https://localhost:8080/"
        },
        "id": "yeJIVT4fGVeK",
        "outputId": "facc4810-ba9d-4872-e39f-309d2a333a71"
      },
      "execution_count": 19,
      "outputs": [
        {
          "output_type": "stream",
          "name": "stdout",
          "text": [
            "Wilcoxon Signed-Rank Test statistic: 0.0\n",
            "P-value: 0.5\n"
          ]
        }
      ]
    },
    {
      "cell_type": "code",
      "source": [
        "w_stat, p_value = wilcoxon(diff_rf, diff_gb)\n",
        "\n",
        "print(f\"Wilcoxon Signed-Rank Test statistic: {w_stat}\")\n",
        "print(f\"P-value: {p_value}\")\n",
        "\n",
        "\n"
      ],
      "metadata": {
        "colab": {
          "base_uri": "https://localhost:8080/"
        },
        "id": "xh3661GuHmed",
        "outputId": "0d0e19dc-6389-4d33-fb5a-e34863b1f700"
      },
      "execution_count": 20,
      "outputs": [
        {
          "output_type": "stream",
          "name": "stdout",
          "text": [
            "Wilcoxon Signed-Rank Test statistic: 0.0\n",
            "P-value: 0.5\n"
          ]
        }
      ]
    }
  ]
}